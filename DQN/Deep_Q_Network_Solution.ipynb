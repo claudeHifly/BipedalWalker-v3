{
 "nbformat": 4,
 "nbformat_minor": 0,
 "metadata": {
  "kernelspec": {
   "display_name": "Python 3",
   "language": "python",
   "name": "python3"
  },
  "language_info": {
   "codemirror_mode": {
    "name": "ipython",
    "version": 3
   },
   "file_extension": ".py",
   "mimetype": "text/x-python",
   "name": "python",
   "nbconvert_exporter": "python",
   "pygments_lexer": "ipython3",
   "version": "3.6.4"
  },
  "colab": {
   "name": "Deep_Q_Network_Solution.ipynb",
   "provenance": [],
   "collapsed_sections": []
  }
 },
 "cells": [
  {
   "cell_type": "markdown",
   "metadata": {
    "collapsed": false,
    "id": "eNvr2aP0ujOf",
    "colab_type": "text"
   },
   "source": [
    "# Install Dependencies"
   ]
  },
  {
   "cell_type": "code",
   "metadata": {
    "pycharm": {
     "name": "#%%\n"
    },
    "id": "h32RBRlWujOg",
    "colab_type": "code",
    "outputId": "437e9b7b-7abc-42c1-f1a0-f6b5aeb277c3",
    "executionInfo": {
     "status": "ok",
     "timestamp": 1590738740909,
     "user_tz": -120,
     "elapsed": 8266,
     "user": {
      "displayName": "lumacla ciavola",
      "photoUrl": "",
      "userId": "15403927291427487268"
     }
    },
    "colab": {
     "base_uri": "https://localhost:8080/",
     "height": 224
    }
   },
   "source": [
    "!pip install gym\n",
    "!pip install box2d_py"
   ],
   "execution_count": 1,
   "outputs": [
    {
     "output_type": "stream",
     "text": [
      "Requirement already satisfied: gym in /usr/local/lib/python3.6/dist-packages (0.17.2)\n",
      "Requirement already satisfied: pyglet<=1.5.0,>=1.4.0 in /usr/local/lib/python3.6/dist-packages (from gym) (1.5.0)\n",
      "Requirement already satisfied: scipy in /usr/local/lib/python3.6/dist-packages (from gym) (1.4.1)\n",
      "Requirement already satisfied: cloudpickle<1.4.0,>=1.2.0 in /usr/local/lib/python3.6/dist-packages (from gym) (1.3.0)\n",
      "Requirement already satisfied: numpy>=1.10.4 in /usr/local/lib/python3.6/dist-packages (from gym) (1.18.4)\n",
      "Requirement already satisfied: future in /usr/local/lib/python3.6/dist-packages (from pyglet<=1.5.0,>=1.4.0->gym) (0.16.0)\n",
      "Collecting box2d_py\n",
      "\u001B[?25l  Downloading https://files.pythonhosted.org/packages/06/bd/6cdc3fd994b0649dcf5d9bad85bd9e26172308bbe9a421bfc6fdbf5081a6/box2d_py-2.3.8-cp36-cp36m-manylinux1_x86_64.whl (448kB)\n",
      "\u001B[K     |████████████████████████████████| 450kB 2.7MB/s \n",
      "\u001B[?25hInstalling collected packages: box2d-py\n",
      "Successfully installed box2d-py-2.3.8\n"
     ],
     "name": "stdout"
    }
   ]
  },
  {
   "cell_type": "markdown",
   "metadata": {
    "collapsed": false,
    "id": "vEQMwQTnujOj",
    "colab_type": "text"
   },
   "source": [
    "# Check if we are allocated a GPU\n",
    "\n"
   ]
  },
  {
   "cell_type": "markdown",
   "metadata": {
    "collapsed": false,
    "id": "WUFVAiDEujOj",
    "colab_type": "text"
   },
   "source": [
    "# Connect to Google Drive"
   ]
  },
  {
   "cell_type": "code",
   "metadata": {
    "pycharm": {
     "name": "#%%\n"
    },
    "id": "ELZvW6WAujOk",
    "colab_type": "code",
    "outputId": "6e33924b-5eb0-4a8c-914d-bc4b900373fc",
    "executionInfo": {
     "status": "ok",
     "timestamp": 1590738769891,
     "user_tz": -120,
     "elapsed": 37241,
     "user": {
      "displayName": "lumacla ciavola",
      "photoUrl": "",
      "userId": "15403927291427487268"
     }
    },
    "colab": {
     "base_uri": "https://localhost:8080/",
     "height": 122
    }
   },
   "source": [
    "from google.colab import drive\n",
    "drive.mount('/content/drive')"
   ],
   "execution_count": 2,
   "outputs": [
    {
     "output_type": "stream",
     "text": [
      "Go to this URL in a browser: https://accounts.google.com/o/oauth2/auth?client_id=947318989803-6bn6qk8qdgf4n4g3pfee6491hc0brc4i.apps.googleusercontent.com&redirect_uri=urn%3aietf%3awg%3aoauth%3a2.0%3aoob&response_type=code&scope=email%20https%3a%2f%2fwww.googleapis.com%2fauth%2fdocs.test%20https%3a%2f%2fwww.googleapis.com%2fauth%2fdrive%20https%3a%2f%2fwww.googleapis.com%2fauth%2fdrive.photos.readonly%20https%3a%2f%2fwww.googleapis.com%2fauth%2fpeopleapi.readonly\n",
      "\n",
      "Enter your authorization code:\n",
      "··········\n",
      "Mounted at /content/drive\n"
     ],
     "name": "stdout"
    }
   ]
  },
  {
   "cell_type": "code",
   "metadata": {
    "pycharm": {
     "name": "#%%\n"
    },
    "id": "LuAp2gaMujOm",
    "colab_type": "code",
    "outputId": "758f6ae5-4366-471f-b9f1-12c463df05a3",
    "executionInfo": {
     "status": "ok",
     "timestamp": 1590738771354,
     "user_tz": -120,
     "elapsed": 38699,
     "user": {
      "displayName": "lumacla ciavola",
      "photoUrl": "",
      "userId": "15403927291427487268"
     }
    },
    "colab": {
     "base_uri": "https://localhost:8080/",
     "height": 54
    }
   },
   "source": [
    "%cd /content/drive/My Drive/BipedalWalker-v3/DQN"
   ],
   "execution_count": 3,
   "outputs": [
    {
     "output_type": "stream",
     "text": [
      "/content/drive/.shortcut-targets-by-id/1TyolH62paiFvrPtkZ3ZJunv4rqrxh7Nz/progettoDataDriven/gym_BipedalWalker-v3/DQN/6_improved_dqn_torch\n"
     ],
     "name": "stdout"
    }
   ]
  },
  {
   "cell_type": "code",
   "metadata": {
    "pycharm": {
     "name": "#%%\n"
    },
    "id": "oKuiCLl3ujOo",
    "colab_type": "code",
    "colab": {}
   },
   "source": [
    "import gym\n",
    "import numpy as np\n",
    "from collections import deque\n",
    "import matplotlib.pyplot as plt\n",
    "from dqn_agent import Agent\n",
    "import pickle\n",
    "import torch\n",
    "\n",
    "\n",
    "gym.logger.set_level(40)\n",
    "env = gym.make('BipedalWalker-v3')\n",
    "env.seed(0)\n",
    "n_state_params = env.observation_space.shape[0]\n",
    "n_actions = env.action_space.shape[0]\n",
    "\n",
    "BATCH_SIZE = 64\n",
    "\n",
    "MAX_EPISODES = 10\n",
    "MAX_REWARD = 300\n",
    "MAX_STEPS = 2000 #env._max_episode_steps\n",
    "BUFFER_SIZE = int(1e5)  # replay buffer size\n",
    "GAMMA = 0.99            # discount factor\n",
    "TAU = 1e-3              # for soft update of target parameters\n",
    "LR = 5e-4               # learning rate\n",
    "UPDATE_EVERY = 4        # how often to update the network\n",
    "MEAN_EVERY = 2\n",
    "\n",
    "eps = 0.99\n",
    "EPSILON_DECAY = 0.001\n",
    "EPSILON_MIN = 0.001\n",
    "\n",
    "start_episode = 0\n",
    "\n",
    "agent = Agent(n_state_params, n_actions, 0, BUFFER_SIZE, BATCH_SIZE, GAMMA, TAU, LR, UPDATE_EVERY)\n",
    "\n",
    "DIR = 'trained_models/'\n",
    "LOAD = False\n",
    "if LOAD:\n",
    "    agent.epsilon = 0.001\n",
    "    start_episode = 67300\n",
    "    agent.qnetwork_local.load_state_dict(torch.load(DIR + 'checkpoint_local_ep' + str(start_episode) + '.pth', map_location=\"cpu\"))\n",
    "    agent.qnetwork_target.load_state_dict(torch.load(DIR + 'checkpoint_target_ep' + str(start_episode) + '.pth', map_location=\"cpu\"))\n",
    "\n",
    "scores = []\n",
    "mean_scores = []\n",
    "last_scores = deque(maxlen=MEAN_EVERY)\n",
    "distances = []\n",
    "mean_distances = []\n",
    "last_distance = deque(maxlen=MEAN_EVERY)\n",
    "losses_mean_episode = []\n",
    "\n",
    "for ep in range(start_episode + 1, MAX_EPISODES + 1):\n",
    "    state = env.reset()\n",
    "    total_reward = 0\n",
    "    total_distance = 0\n",
    "    losses = []\n",
    "    for t in range(MAX_STEPS):\n",
    "        action = agent.act(state)\n",
    "        next_state, reward, done, _ = env.step(action, eps)\n",
    "        loss = agent.step(state, action, reward, next_state, done)\n",
    "        if loss is not None:\n",
    "            losses.append(loss)\n",
    "        state = next_state\n",
    "        total_reward += reward\n",
    "        if reward != -100:\n",
    "            total_distance += reward\n",
    "        if done:\n",
    "            break\n",
    "    eps = max(EPSILON_MIN, EPSILON_DECAY * eps)\n",
    "\n",
    "    if len(losses) >= 1:\n",
    "        mean_loss = np.mean(losses)\n",
    "        losses_mean_episode.append((ep, mean_loss))\n",
    "    else:\n",
    "        mean_loss = None\n",
    "\n",
    "    print('\\rEpisode: {}/{},\\tScore: {:.2f},\\tDistance: {:.2f},\\tloss: {},\\te:{:.2f}'.format(ep, MAX_EPISODES,\n",
    "                                                                                         total_reward,\n",
    "                                                                                         total_distance, mean_loss,\n",
    "                                                                                         agent.epsilon), end=\"\")\n",
    "\n",
    "    scores.append(total_reward)\n",
    "    distances.append(total_distance)\n",
    "    last_scores.append(total_reward)\n",
    "    last_distance.append(total_distance)\n",
    "    mean_score = np.mean(last_scores)\n",
    "    mean_distance = np.mean(last_distance)\n",
    "\n",
    "    # record rewards dynamically\n",
    "    FILE = 'record.dat'\n",
    "    data = [ep, total_reward, total_distance, mean_loss, agent.epsilon]\n",
    "    with open(FILE, \"ab\") as f:\n",
    "        pickle.dump(data, f)\n",
    "\n",
    "    if (mean_score >= 300):\n",
    "        print('\\nEnvironment solved in {:d} episodes!\\tAverage Score: {:.2f}'.format(ep, mean_score))\n",
    "        torch.save(agent.qnetwork_local.state_dict(), DIR + '/best/checkpoint_local_ep' + str(ep) + '.pth')\n",
    "        torch.save(agent.qnetwork_target.state_dict(), DIR + '/best/checkpoint_target_ep' + str(ep) + '.pth')\n",
    "        break\n",
    "\n",
    "    # save model every MEAN_EVERY episodes\n",
    "    if ((ep % MEAN_EVERY) == 0):\n",
    "        print('\\rEpisode: {}/{},\\tMean Score: {:.2f},\\tMean Distance: {:.2f},\\tloss: {},\\te:{:.2f}'.format(ep, MAX_EPISODES,\n",
    "                                                                                   mean_score,\n",
    "                                                                                   mean_distance, mean_loss,\n",
    "                                                                                   agent.epsilon))\n",
    "        torch.save(agent.qnetwork_local.state_dict(), DIR + '/checkpoint_local_ep' + str(ep) + '.pth')\n",
    "        torch.save(agent.qnetwork_target.state_dict(), DIR + '/checkpoint_target_ep' + str(ep) + '.pth')\n",
    "        mean_scores.append(mean_score)\n",
    "        mean_distances.append(mean_distance)\n",
    "        FILE = 'record_mean.dat'\n",
    "        data = [ep, mean_score, mean_distance, mean_loss, agent.epsilon]\n",
    "        with open(FILE, \"ab\") as f:\n",
    "            pickle.dump(data, f)\n",
    "env.close()"
   ],
   "execution_count": 0,
   "outputs": []
  }
 ]
}